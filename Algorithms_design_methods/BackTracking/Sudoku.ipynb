{
  "nbformat": 4,
  "nbformat_minor": 0,
  "metadata": {
    "colab": {
      "provenance": []
    },
    "kernelspec": {
      "name": "python3",
      "display_name": "Python 3"
    },
    "language_info": {
      "name": "python"
    }
  },
  "cells": [
    {
      "cell_type": "code",
      "source": [
        "\n",
        "\n",
        "import random\n",
        "from collections import defaultdict\n",
        "random.seed(123)\n",
        "def info(l,board):\n",
        "  \"\"\"\n",
        "  l: empty list that will become the solution of the game\n",
        "  board: list with 9 lists each one with 9 elements\n",
        "  ---------------------------------------------------------\n",
        "  We define 3 dictionaries. Rows, numbers that are in each row(key) of the board,\n",
        "  cols representing the numbers that are in the columns of the board, and h representing \n",
        "  the numbers present in the board for each 3x3 square.(The number of 3x3 squares is equal \n",
        "  to the number of rows which is equal to the number of columns).\n",
        "  \"\"\"\n",
        "  h=defaultdict(set)\n",
        "  rows, cols = defaultdict(set),defaultdict(set)\n",
        "  for i in range(9):\n",
        "    for j in range(9):\n",
        "      if board[i][j] != \"*\":\n",
        "        h[3*(i//3)+j//3].add(int(board[i][j]))\n",
        "        rows[i].add(int(board[i][j]))\n",
        "        cols[j].add(int(board[i][j]))\n",
        "  return h, rows, cols\n",
        "\n",
        "def update(l,board,row,col,h,rows,cols):\n",
        "  \"\"\"\n",
        "  l: empty list\n",
        "  board: list with 9 lists each one with 9 elements\n",
        "  row:int starting row\n",
        "  col: int starting column\n",
        "  h: dictionary with its keys representing each 3x3 square in the board.Each key will have \n",
        "  the elements that appear in the initial board\n",
        "  rows: dictionary representing the rows.Each key will have the elements that appear in the initial board\n",
        "  cols: dictionary representing the columns.Each key will have the elements that appear in the initial board\n",
        "  -----------------------------------------------------------------------------------------------------------\n",
        "  We are gonna go through each square. If the square is * we check which number should replace it\n",
        "  with the rules of the game on mind (a number can't be repeated in a 3x3 square nor in a row nor i a column).\n",
        "  We go column by column until we reach the final one. When we do we go to the next row and check each number \n",
        "  of the columns again. Once reached the final row, we will have completed the Sudoku, which will be in l.\n",
        "  \"\"\"\n",
        "  if row == 9:\n",
        "    for i in range(9):\n",
        "      l.append(board[i][:])\n",
        "      #print('SE HA HECHO')\n",
        "    return\n",
        "  if board[row][col]=='*':\n",
        "    for i in range(1,10):\n",
        "      if ( i not in h[3*(row//3)+col//3] and i not in rows[row] and i not in cols[col]):\n",
        "        board[row][col] = str(i)\n",
        "        h[3*(row//3)+col//3].add(i)\n",
        "        rows[row].add(i)\n",
        "        cols[col].add(i)\n",
        "        if col==8:\n",
        "          update(l,board,row+1,0,h,rows,cols)\n",
        "        else:\n",
        "          update(l,board,row,col+1,h,rows,cols)\n",
        "        h[3*(row//3)+col//3].remove(i)\n",
        "        rows[row].remove(i)\n",
        "        cols[col].remove(i)\n",
        "        board[row][col] = '*'\n",
        "  else:\n",
        "    if col!=8:\n",
        "      update(l,board,row,col+1,h,rows,cols)\n",
        "    else:\n",
        "      update(l,board,row+1,0,h,rows,cols)\n",
        "\n",
        "\n",
        "def sudoku():\n",
        "  \"\"\"\n",
        "  We just copy the information in l to the board\n",
        "  \"\"\"\n",
        "  l=[]\n",
        "  board = [[\"*\", \"6\", \"*\", \"1\", \"*\", \"4\", \"*\", \"5\", \"*\"],\n",
        "           [\"*\", \"*\", \"8\", \"3\", \"*\", \"5\", \"6\", \"*\", \"*\"],\n",
        "           [\"2\", \"*\", \"*\", \"*\", \"*\", \"*\", \"*\", \"*\", \"1\"],\n",
        "           [\"8\", \"*\", \"*\", \"4\", \"*\", \"7\", \"*\", \"*\", \"6\"],\n",
        "           [\"*\", \"*\", \"6\", \"*\", \"*\", \"*\", \"3\", \"*\", \"*\"],\n",
        "           [\"7\", \"*\", \"*\", \"9\", \"*\", \"1\", \"*\", \"*\", \"4\"],\n",
        "           [\"5\", \"*\", \"*\", \"*\", \"*\", \"*\", \"*\", \"*\", \"2\"],\n",
        "           [\"*\", \"*\", \"7\", \"2\", \"*\", \"6\", \"9\", \"*\", \"*\"],\n",
        "           [\"*\", \"4\", \"*\", \"5\", \"*\", \"8\", \"*\", \"7\", \"*\"],]\n",
        "  \n",
        "  h,rows,cols = info(l,board)\n",
        "  update(l,board,0,0,h,rows,cols)\n",
        "\n",
        "  for i in range(9):\n",
        "    for j in range(9):\n",
        "      board[i][j] = l[i][j]\n",
        "  return board\n",
        "\n",
        "sudoku()\n"
      ],
      "metadata": {
        "colab": {
          "base_uri": "https://localhost:8080/"
        },
        "id": "GsV0KXyd1lqv",
        "outputId": "45750980-1685-4f2d-bc85-c724d3f22955"
      },
      "execution_count": 61,
      "outputs": [
        {
          "output_type": "stream",
          "name": "stdout",
          "text": [
            "defaultdict(<class 'set'>, {})\n",
            "defaultdict(<class 'set'>, {}) defaultdict(<class 'set'>, {})\n"
          ]
        },
        {
          "output_type": "execute_result",
          "data": {
            "text/plain": [
              "[['9', '6', '3', '1', '7', '4', '2', '5', '8'],\n",
              " ['1', '7', '8', '3', '2', '5', '6', '4', '9'],\n",
              " ['2', '5', '4', '6', '8', '9', '7', '3', '1'],\n",
              " ['8', '2', '1', '4', '3', '7', '5', '9', '6'],\n",
              " ['4', '9', '6', '8', '5', '2', '3', '1', '7'],\n",
              " ['7', '3', '5', '9', '6', '1', '8', '2', '4'],\n",
              " ['5', '8', '9', '7', '1', '3', '4', '6', '2'],\n",
              " ['3', '1', '7', '2', '4', '6', '9', '8', '5'],\n",
              " ['6', '4', '2', '5', '9', '8', '1', '7', '3']]"
            ]
          },
          "metadata": {},
          "execution_count": 61
        }
      ]
    }
  ]
}