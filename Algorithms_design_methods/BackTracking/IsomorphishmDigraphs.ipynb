{
  "nbformat": 4,
  "nbformat_minor": 0,
  "metadata": {
    "colab": {
      "provenance": []
    },
    "kernelspec": {
      "name": "python3",
      "display_name": "Python 3"
    },
    "language_info": {
      "name": "python"
    }
  },
  "cells": [
    {
      "cell_type": "markdown",
      "source": [
        "**Isomorphishm of digraphs**"
      ],
      "metadata": {
        "id": "wekyqBaVyPYo"
      }
    },
    {
      "cell_type": "code",
      "source": [
        "import random\n",
        "random.seed(123)\n",
        "def generate_digraph(n):\n",
        "  \"\"\"\n",
        "  Computational cost: O(n^2)\n",
        "  Additional space cost: O(n^2)\n",
        "  ----------------------------\n",
        "  Function that generates a random adyacent matrix that we will use to represent\n",
        "  a random digraph.\n",
        "  \"\"\"\n",
        "  g = [[0 for j in range(n)] for i in range(n)]\n",
        "  for i in range(n):\n",
        "    for j in range(n):\n",
        "      g[i][j] = random.randint(0, 1)\n",
        "  return g\n",
        "\n",
        "generate_digraph(5)  "
      ],
      "metadata": {
        "colab": {
          "base_uri": "https://localhost:8080/"
        },
        "id": "xyQRnOv6yT2E",
        "outputId": "6b28c89d-867b-4153-ce31-a56bc38d5514"
      },
      "execution_count": 20,
      "outputs": [
        {
          "output_type": "execute_result",
          "data": {
            "text/plain": [
              "[[0, 1, 0, 1, 1],\n",
              " [0, 0, 1, 1, 1],\n",
              " [0, 0, 0, 1, 1],\n",
              " [0, 0, 0, 1, 0],\n",
              " [1, 0, 0, 1, 1]]"
            ]
          },
          "metadata": {},
          "execution_count": 20
        }
      ]
    },
    {
      "cell_type": "code",
      "source": [
        "random.seed(123)\n",
        "def in_out(G):\n",
        "  \"\"\"\n",
        "  Computational cost: O(n^2)\n",
        "  Additional space cost: O(n)\n",
        "  g: digraph represented by its adyacent matrix\n",
        "  -------------------------------------------\n",
        "  We count the times the vertices are part of the start (I) and end (O) from an edge\n",
        "  \"\"\"\n",
        "  n=len(G[0]) #it could be anyone\n",
        "  I=[0 for i in range(n)] #I es S\n",
        "  O=[0 for i in range(n)] #O es E\n",
        "  \n",
        "\n",
        "  for i in range(n):\n",
        "    for j in range(n):\n",
        "      if G[i][j]==1:\n",
        "        I[i]+=1\n",
        "        O[j]+=1\n",
        "  #print(f\"times the vertices are the end of and edge {O}\")\n",
        "  #print(f\"times the vertices are the start of and edge {I}\")\n",
        "  return I,O\n",
        "digraph = generate_digraph(5)\n",
        "in_out(digraph)"
      ],
      "metadata": {
        "colab": {
          "base_uri": "https://localhost:8080/"
        },
        "id": "LJHYIG58yVgs",
        "outputId": "a0b401fa-7ac5-456c-e2a6-fdc93fc02037"
      },
      "execution_count": 21,
      "outputs": [
        {
          "output_type": "execute_result",
          "data": {
            "text/plain": [
              "([3, 3, 2, 1, 3], [1, 1, 1, 5, 4])"
            ]
          },
          "metadata": {},
          "execution_count": 21
        }
      ]
    },
    {
      "cell_type": "code",
      "source": [
        "random.seed(123)\n",
        "def digraph(g1,g2,I1,O1,I2,O2,sol,k,used,success,l):\n",
        "  \"\"\"\n",
        "  Computational time: O(n*(n-k)) \n",
        "  -----------------------------\n",
        "  g1: digraph represented by its adyancent matrix\n",
        "  g2: digraph represented by its adyancent matrix\n",
        "  Ii: list of length equal to the vertices with the times a vertex is the start of an edge from gi for i=1,2\n",
        "  Oi: list of length equal to the vertices with the times a vertex is the end of an edge from gi for i=1,2\n",
        "  sol: biyective opeartion\n",
        "  k: int number to go through the vertices\n",
        "  used: vector that tells if a vertex is used \n",
        "  success: bool variable that tells if there is an isomorphism or not\n",
        "  -------------------------\n",
        "  \n",
        "  \"\"\"\n",
        "  n=len(g1[0])\n",
        "  vertex=0\n",
        "  if True in l: #It's necessary to stop all the recursive calls when we find a solution\n",
        "    return l\n",
        "\n",
        "  while vertex<=n-1 and not success:\n",
        "    if not used[vertex]:\n",
        "      sol[k]=vertex\n",
        "      used[vertex]=True\n",
        "      if I1[k]==I2[sol[k]] and O1[k]==O2[sol[k]] and confirm_edges(g1,g2,sol,k):\n",
        "        if k==n-1:\n",
        "          success=True\n",
        "          \n",
        "        else:\n",
        "          digraph(g1,g2,I1,O1,I2,O2,sol,k+1,used,success,l)\n",
        "      used[vertex]=False\n",
        "      if success==True:\n",
        "        l.append(success)\n",
        "        print(f'A solution is {sol}')\n",
        "    vertex+=1\n",
        "  return l\n",
        "\n",
        "\n"
      ],
      "metadata": {
        "id": "ge1GKcVSyYSq"
      },
      "execution_count": 22,
      "outputs": []
    },
    {
      "cell_type": "code",
      "source": [],
      "metadata": {
        "id": "9rjFcp9X7luR"
      },
      "execution_count": 23,
      "outputs": []
    },
    {
      "cell_type": "code",
      "source": [],
      "metadata": {
        "id": "aPcPdCDx-BLJ"
      },
      "execution_count": null,
      "outputs": []
    },
    {
      "cell_type": "code",
      "source": [],
      "metadata": {
        "id": "RIf2aEPZ-BcC"
      },
      "execution_count": null,
      "outputs": []
    },
    {
      "cell_type": "code",
      "source": [
        "#Function needed for 'iso', which is the main function.\n",
        "def confirm_edges(g1,g2,sol,k):\n",
        "  \"\"\"\n",
        "  Function that checks if the edges from g1 are respect g2(Bijection). We suposse that From 1 to k-1\n",
        "  it is already checked. So it will be O(n-k) in time computation.\n",
        "  \"\"\"\n",
        "  i=0\n",
        "  answer=True\n",
        "  while answer and i<k:\n",
        "    answer= (g1[i][k]==g2[sol[i]][sol[k]]) and (g1[k][i]==g2[sol[k]][sol[i]])\n",
        "    i+=1\n",
        "  return answer"
      ],
      "metadata": {
        "id": "MLenRQhC9Cr1"
      },
      "execution_count": 24,
      "outputs": []
    },
    {
      "cell_type": "code",
      "source": [
        "\n",
        "def iso(g1,g2):\n",
        "  \"\"\"\n",
        "  g1: digraph represented by its adyancent matrix\n",
        "  g2: digraph represented by its adyancent matrix\n",
        "  -------------------------------------------------\n",
        "  We initialize the vectors used and sol, call the function in_out to get the number of times a vertex \n",
        "  is part of an edge and put success to False value as we have not see if its an isomorphism yet.\n",
        "  We use all these for the function digraph.\n",
        "  We use a list to store the True value of success because if not, it will give all the possible combinations.\n",
        "  We may be using more space than necessary but right now this is the solution taken.\n",
        "  \"\"\"\n",
        "  l=[]\n",
        "  n=len(g1[0])\n",
        "  used = [False for i in range(n)]\n",
        "  sol= [0 for i in range(n)]\n",
        "  I1,O1 = in_out(g1)\n",
        "  I2,O2 = in_out(g2)\n",
        "  success=False\n",
        "  l=digraph(g1,g2,I1,O1,I2,O2,sol,0,used,success,l)\n",
        "  if l!=[]:\n",
        "    print(f\"Isomorphism of digraphs between digraph1 and digraph2:{l[0]}\")#It will always be True\n",
        "  else:\n",
        "    print(f\"Isomorphism of digraphs between digraph1 and digraph2:{False}\")\n",
        "\n",
        "\n",
        "digraph1 = generate_digraph(5)\n",
        "digraph2 = generate_digraph(5)\n",
        "\n",
        "print(digraph1)\n",
        "print(f'{digraph2}\\n')\n",
        "iso(digraph1,digraph2)"
      ],
      "metadata": {
        "colab": {
          "base_uri": "https://localhost:8080/"
        },
        "id": "6RvVPgc77UXB",
        "outputId": "d82900df-c0ff-4644-d042-ea5ee2f8bc01"
      },
      "execution_count": 25,
      "outputs": [
        {
          "output_type": "stream",
          "name": "stdout",
          "text": [
            "[[0, 1, 0, 1, 1], [0, 0, 1, 1, 1], [0, 0, 0, 1, 1], [0, 0, 0, 1, 0], [1, 0, 0, 1, 1]]\n",
            "[[0, 0, 0, 0, 0], [0, 1, 1, 1, 1], [1, 0, 1, 1, 1], [0, 1, 0, 1, 1], [1, 1, 1, 0, 0]]\n",
            "\n",
            "Isomorphism of digraphs between digraph1 and digraph2:False\n"
          ]
        }
      ]
    },
    {
      "cell_type": "code",
      "source": [
        "#Now with an isomorphish of digraphs\n",
        "digraph11 = [[0, 1, 1, 0], [1, 0, 0, 1], [1, 0, 0, 1], [0, 1, 1, 0]]\n",
        "digraph12 = [[0, 0, 1, 1], [0, 0, 1, 1], [1, 1, 0, 0], [1, 1, 0, 0]]\n",
        "iso(digraph11,digraph12)"
      ],
      "metadata": {
        "colab": {
          "base_uri": "https://localhost:8080/"
        },
        "id": "8d0aulYQpPJ7",
        "outputId": "315a32b6-70e2-4406-f20e-ca89443e5aa5"
      },
      "execution_count": 26,
      "outputs": [
        {
          "output_type": "stream",
          "name": "stdout",
          "text": [
            "A solution is [0, 2, 3, 1]\n",
            "Isomorphism of digraphs between digraph1 and digraph2:True\n"
          ]
        }
      ]
    },
    {
      "cell_type": "code",
      "source": [],
      "metadata": {
        "id": "VSuP11b9zvjR"
      },
      "execution_count": null,
      "outputs": []
    }
  ]
}