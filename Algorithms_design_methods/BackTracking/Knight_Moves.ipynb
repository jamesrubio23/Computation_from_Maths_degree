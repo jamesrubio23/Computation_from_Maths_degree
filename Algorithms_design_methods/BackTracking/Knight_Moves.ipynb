{
  "nbformat": 4,
  "nbformat_minor": 0,
  "metadata": {
    "colab": {
      "provenance": []
    },
    "kernelspec": {
      "name": "python3",
      "display_name": "Python 3"
    },
    "language_info": {
      "name": "python"
    }
  },
  "cells": [
    {
      "cell_type": "code",
      "source": [
        "#THIS IS NOT THE BEST SOLUTION FOR THE PROBLEM AS IT TAKES A LOT OF TIME, BUT IT IS A GOOD ONE FOR LITTLE n. (Use genetic or exact algorithms for larger n)\n",
        "\n",
        "import numpy as np\n",
        "def knight_update(n,board,x,y,sum,sol):\n",
        "  \"\"\"\n",
        "  The worst time complexity is O(8**(n**2))\n",
        "  ------------------------------------------\n",
        "  n= number of squares for each row and column\n",
        "  board = list of n lists with n elements each one\n",
        "  x:position x\n",
        "  y:position y\n",
        "  sum: Variable to see the step we are in\n",
        "  sol: vector with tuples that gives the position x, y and the step\n",
        "  \"\"\"\n",
        "  if sum==n**2:\n",
        "    return True\n",
        "  if (x<0) or (x>=n) or (y<0) or (y>=n) or board[x][y] != '*': #We discard every possibility that surpases the board\n",
        "    return False\n",
        "  board[x][y] = sum\n",
        "  \n",
        "  for pos_x, pos_y in zip([-2,-2,-1,-1,1,1,2,2],[-1,2,-2,2,-2,2,-1,1]): \n",
        "    if knight_update(n,board,x+pos_x,y+pos_y,sum+1,sol):\n",
        "      sol.append((x+pos_x,y+pos_y,sum+1))\n",
        "      return True\n",
        "  board[x][y]='*'\n",
        "\n",
        "\n",
        "\n",
        "\n",
        "def knight_info(n):\n",
        "  \"\"\"\n",
        "  Main function\n",
        "  \"\"\"\n",
        "  board =[['*' for i in range(n)]for j in range(n)]\n",
        "  print(f'{np.array(board)}\\n')\n",
        "  sol=[]\n",
        "  knight_update(n,board,0,0,0,sol)\n",
        "  for x,y,step in sol[::-1]: #Not necessary\n",
        "    print(f\"Move {step}: ({x},{y})\")\n",
        "  \n",
        "  print(f'\\n {np.array(board)}')\n",
        "\n",
        "knight_info(5)"
      ],
      "metadata": {
        "id": "6AcWBPhOhhc7",
        "colab": {
          "base_uri": "https://localhost:8080/"
        },
        "outputId": "031870dc-4fb4-423b-bf09-050308ebd3be"
      },
      "execution_count": 4,
      "outputs": [
        {
          "output_type": "stream",
          "name": "stdout",
          "text": [
            "[['*' '*' '*' '*' '*']\n",
            " ['*' '*' '*' '*' '*']\n",
            " ['*' '*' '*' '*' '*']\n",
            " ['*' '*' '*' '*' '*']\n",
            " ['*' '*' '*' '*' '*']]\n",
            "\n",
            "Move 1: (1,2)\n",
            "Move 2: (0,4)\n",
            "Move 3: (2,3)\n",
            "Move 4: (1,1)\n",
            "Move 5: (0,3)\n",
            "Move 6: (2,4)\n",
            "Move 7: (4,3)\n",
            "Move 8: (3,1)\n",
            "Move 9: (1,0)\n",
            "Move 10: (0,2)\n",
            "Move 11: (1,4)\n",
            "Move 12: (2,2)\n",
            "Move 13: (3,0)\n",
            "Move 14: (4,2)\n",
            "Move 15: (3,4)\n",
            "Move 16: (1,3)\n",
            "Move 17: (0,1)\n",
            "Move 18: (2,0)\n",
            "Move 19: (4,1)\n",
            "Move 20: (3,3)\n",
            "Move 21: (2,1)\n",
            "Move 22: (4,0)\n",
            "Move 23: (3,2)\n",
            "Move 24: (4,4)\n",
            "Move 25: (2,3)\n",
            "\n",
            " [[ 0 17 10  5  2]\n",
            " [ 9  4  1 16 11]\n",
            " [18 21 12  3  6]\n",
            " [13  8 23 20 15]\n",
            " [22 19 14  7 24]]\n"
          ]
        }
      ]
    },
    {
      "cell_type": "code",
      "source": [],
      "metadata": {
        "id": "jHSwBl7yHCcd"
      },
      "execution_count": null,
      "outputs": []
    }
  ]
}