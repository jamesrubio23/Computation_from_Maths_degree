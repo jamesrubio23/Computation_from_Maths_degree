{
  "nbformat": 4,
  "nbformat_minor": 0,
  "metadata": {
    "colab": {
      "provenance": []
    },
    "kernelspec": {
      "name": "python3",
      "display_name": "Python 3"
    },
    "language_info": {
      "name": "python"
    }
  },
  "cells": [
    {
      "cell_type": "markdown",
      "source": [
        "#**Hanoi Towers**"
      ],
      "metadata": {
        "id": "5UxgSyI0A6M7"
      }
    },
    {
      "cell_type": "code",
      "execution_count": 55,
      "metadata": {
        "id": "ZnuDq2yBwGTL"
      },
      "outputs": [],
      "source": [
        "\n",
        "def move(s1,s2,n):\n",
        "  \"\"\"\n",
        "  s1:stick 1\n",
        "  s2:stick 2\n",
        "  n:number of sticks\n",
        "  \"\"\"\n",
        "  print(f'Disk {n} in {s1} goes to {s2}')\n",
        "  \n",
        "\n",
        "\n",
        "\n",
        "def Hanoi(origin,dest,aux,n):\n",
        "  \"\"\"\n",
        "  The problem can't be solved in less than 2**n-1 moves(Prove by induction at the end).\n",
        "  ------------------------------------------------------\n",
        "  origin: origin stick with all the disks ordered by size\n",
        "  dest:destination stick\n",
        "  aux:auxiliary stick\n",
        "  n:number of sticks\n",
        "  \"\"\"\n",
        "  if n==1:\n",
        "    move(origin,dest,n)\n",
        "  else:\n",
        "    Hanoi(origin,aux,dest,n-1)#We move the n-1 discs to the aux stick\n",
        "    move(origin,dest,n) #We move the biggest disc to dest because every other disc is in aux\n",
        "    Hanoi(aux,dest,origin,n-1) #We move the rest of discs from aux to dest using origin as our auxilary stick"
      ]
    },
    {
      "cell_type": "code",
      "source": [
        "Hanoi('origin','destination','aux',4)"
      ],
      "metadata": {
        "colab": {
          "base_uri": "https://localhost:8080/"
        },
        "id": "IrTjeSod7lqq",
        "outputId": "075860b2-3be8-4263-8b2a-126e2fe26d80"
      },
      "execution_count": 56,
      "outputs": [
        {
          "output_type": "stream",
          "name": "stdout",
          "text": [
            "Disk 1 in origin goes to aux\n",
            "Disk 2 in origin goes to destination\n",
            "Disk 1 in aux goes to destination\n",
            "Disk 3 in origin goes to aux\n",
            "Disk 1 in destination goes to origin\n",
            "Disk 2 in destination goes to aux\n",
            "Disk 1 in origin goes to aux\n",
            "Disk 4 in origin goes to destination\n",
            "Disk 1 in aux goes to destination\n",
            "Disk 2 in aux goes to origin\n",
            "Disk 1 in destination goes to origin\n",
            "Disk 3 in aux goes to destination\n",
            "Disk 1 in origin goes to aux\n",
            "Disk 2 in origin goes to destination\n",
            "Disk 1 in aux goes to destination\n"
          ]
        }
      ]
    },
    {
      "cell_type": "markdown",
      "source": [
        "**Hanoi Towers Problem takes at least 2^n-1 moves to solve**\n",
        "\n",
        "For n=1 we need to make one move. \n",
        "Our hypothesis is that for n we need to make 2^n-1 moves at least to solve the problem.\n",
        "Let's check for n+1: We need to take n discs and move them to aux, that requires 2^n-1 moves because of our hypothesis\n",
        "Then we need to put the biggest disk in the dest stick which is one move and put the n disks, that were in the aux stick, in dest which is another 2^n-1 moves. If we sum all, the result is 2^n-1+1+2^n-1 = 2^(n+1)-1. \n",
        "Proved by induction. \n"
      ],
      "metadata": {
        "id": "DnGrz7yi_R0Z"
      }
    },
    {
      "cell_type": "markdown",
      "source": [
        "#**Hanoi Towers with reduction of moves**"
      ],
      "metadata": {
        "id": "f9ZiQfi9A3mc"
      }
    },
    {
      "cell_type": "code",
      "source": [
        "#We can't move from origin to dest nor dest to origin\n",
        "def move(s1,s2,n):\n",
        "  \"\"\"\n",
        "  s1:stick 1\n",
        "  s2:stick 2\n",
        "  n:number of disks\n",
        "  --------------------\n",
        "  Prints the move\n",
        "  \"\"\"\n",
        "  print(f'Disk {n} in {s1} goes to {s2}')\n",
        "\n",
        "def Hanoi2(origin,dest,aux,n):\n",
        "  \"\"\"\n",
        "  origin: origin stick with all the disks ordered by size\n",
        "  dest:destination stick\n",
        "  aux:auxiliary stick\n",
        "  n:number of disks\n",
        "  \"\"\"\n",
        "  if n==1:\n",
        "    move(origin,aux,n)\n",
        "    move(aux,dest,n)\n",
        "  else:\n",
        "    Hanoi2(origin,aux,dest,n-1)#We move the n-1 discs to the aux stick then to the dest stick\n",
        "    move(origin,aux,n) #We move the biggest disc to aux.\n",
        "    Hanoi2(dest,origin,aux,n-1) #We move the rest of discs from dest to aux then to origin\n",
        "    move(aux,dest,n)#Move the biggest disk to dest.\n",
        "    Hanoi2(origin,aux,dest,n-1)#Move the n-1 disks to aux then to dest"
      ],
      "metadata": {
        "id": "FtisDdk37tWv"
      },
      "execution_count": 69,
      "outputs": []
    },
    {
      "cell_type": "code",
      "source": [
        "Hanoi2('origin','destination','aux',4)"
      ],
      "metadata": {
        "colab": {
          "base_uri": "https://localhost:8080/"
        },
        "outputId": "a7410bd5-7d3f-4ca6-fb95-6d50243b6bfb",
        "id": "50Xjafgk9EGi"
      },
      "execution_count": 71,
      "outputs": [
        {
          "output_type": "stream",
          "name": "stdout",
          "text": [
            "Disk 1 in origin goes to destination\n",
            "Disk 1 in destination goes to aux\n",
            "Disk 2 in origin goes to aux\n",
            "Disk 1 in destination goes to aux\n",
            "Disk 1 in aux goes to origin\n",
            "Disk 2 in aux goes to destination\n",
            "Disk 1 in origin goes to destination\n",
            "Disk 1 in destination goes to aux\n",
            "Disk 3 in origin goes to destination\n",
            "Disk 1 in aux goes to origin\n",
            "Disk 1 in origin goes to destination\n",
            "Disk 2 in aux goes to destination\n",
            "Disk 1 in origin goes to destination\n",
            "Disk 1 in destination goes to aux\n",
            "Disk 2 in destination goes to origin\n",
            "Disk 1 in aux goes to origin\n",
            "Disk 1 in origin goes to destination\n",
            "Disk 3 in destination goes to aux\n",
            "Disk 1 in origin goes to destination\n",
            "Disk 1 in destination goes to aux\n",
            "Disk 2 in origin goes to aux\n",
            "Disk 1 in destination goes to aux\n",
            "Disk 1 in aux goes to origin\n",
            "Disk 2 in aux goes to destination\n",
            "Disk 1 in origin goes to destination\n",
            "Disk 1 in destination goes to aux\n",
            "Disk 4 in origin goes to aux\n",
            "Disk 1 in destination goes to aux\n",
            "Disk 1 in aux goes to origin\n",
            "Disk 2 in destination goes to origin\n",
            "Disk 1 in aux goes to origin\n",
            "Disk 1 in origin goes to destination\n",
            "Disk 2 in origin goes to aux\n",
            "Disk 1 in destination goes to aux\n",
            "Disk 1 in aux goes to origin\n",
            "Disk 3 in destination goes to aux\n",
            "Disk 1 in origin goes to destination\n",
            "Disk 1 in destination goes to aux\n",
            "Disk 2 in origin goes to aux\n",
            "Disk 1 in destination goes to aux\n",
            "Disk 1 in aux goes to origin\n",
            "Disk 2 in aux goes to destination\n",
            "Disk 1 in origin goes to destination\n",
            "Disk 1 in destination goes to aux\n",
            "Disk 3 in aux goes to origin\n",
            "Disk 1 in destination goes to aux\n",
            "Disk 1 in aux goes to origin\n",
            "Disk 2 in destination goes to origin\n",
            "Disk 1 in aux goes to origin\n",
            "Disk 1 in origin goes to destination\n",
            "Disk 2 in origin goes to aux\n",
            "Disk 1 in destination goes to aux\n",
            "Disk 1 in aux goes to origin\n",
            "Disk 4 in aux goes to destination\n",
            "Disk 1 in origin goes to destination\n",
            "Disk 1 in destination goes to aux\n",
            "Disk 2 in origin goes to aux\n",
            "Disk 1 in destination goes to aux\n",
            "Disk 1 in aux goes to origin\n",
            "Disk 2 in aux goes to destination\n",
            "Disk 1 in origin goes to destination\n",
            "Disk 1 in destination goes to aux\n",
            "Disk 3 in origin goes to destination\n",
            "Disk 1 in aux goes to origin\n",
            "Disk 1 in origin goes to destination\n",
            "Disk 2 in aux goes to destination\n",
            "Disk 1 in origin goes to destination\n",
            "Disk 1 in destination goes to aux\n",
            "Disk 2 in destination goes to origin\n",
            "Disk 1 in aux goes to origin\n",
            "Disk 1 in origin goes to destination\n",
            "Disk 3 in destination goes to aux\n",
            "Disk 1 in origin goes to destination\n",
            "Disk 1 in destination goes to aux\n",
            "Disk 2 in origin goes to aux\n",
            "Disk 1 in destination goes to aux\n",
            "Disk 1 in aux goes to origin\n",
            "Disk 2 in aux goes to destination\n",
            "Disk 1 in origin goes to destination\n",
            "Disk 1 in destination goes to aux\n"
          ]
        }
      ]
    },
    {
      "cell_type": "markdown",
      "source": [
        "**Number of movements at least to solve**"
      ],
      "metadata": {
        "id": "YqutNqR3DQDt"
      }
    },
    {
      "cell_type": "markdown",
      "source": [
        "\\begin{align}\n",
        "        \\text{T}(n) = \\left\\{\n",
        "        \\begin{array}{cl}\n",
        "        2 & n=1 \\\\\n",
        "        3T(n-1)+2 & n > 1.\n",
        "        \\end{array}\n",
        "        \\right.\n",
        "    \\end{align}\n",
        "\n"
      ],
      "metadata": {
        "id": "TENW8ab6BSsF"
      }
    },
    {
      "cell_type": "markdown",
      "source": [
        "T(n) = $3^i$T(n-i) +2 $∑_{j=0}^{i-1}3^j$ = $3^{n-1}T(1)$ + 2 $∑_{j=0}^{n-2}3^j$ = 2 $∑_{j=0}^{n-1}3^j$ = $3^n$-1"
      ],
      "metadata": {
        "id": "HitxDwIIC6E2"
      }
    },
    {
      "cell_type": "markdown",
      "source": [
        "#**Hanoi Towers with 4 sticks**"
      ],
      "metadata": {
        "id": "4z_B8hgeDbFh"
      }
    },
    {
      "cell_type": "code",
      "source": [
        "def move(s1,s2,n):\n",
        "  \"\"\"\n",
        "  s1:stick 1\n",
        "  s2:stick 2\n",
        "  n:number of disks\n",
        "  --------------------\n",
        "  Prints the move\n",
        "  \"\"\"\n",
        "  print(f'Move disk from {s1} to {s2}')\n",
        "import math\n",
        "def Hanoi4(origin,dest,aux1,aux2,n):\n",
        "  if n==1:\n",
        "    move(origin,dest,n)\n",
        "  else:\n",
        "    Hanoi(origin,aux1,aux2,n//2)\n",
        "    Hanoi(origin,dest,aux2,n//2)\n",
        "    Hanoi(aux1,dest,aux2,n//2)\n",
        "\n"
      ],
      "metadata": {
        "id": "nphpSzt9DgfQ"
      },
      "execution_count": 93,
      "outputs": []
    },
    {
      "cell_type": "code",
      "source": [
        "Hanoi4('origin','dest','aux1','aux2',7)"
      ],
      "metadata": {
        "colab": {
          "base_uri": "https://localhost:8080/"
        },
        "id": "w7vdASwRImQ2",
        "outputId": "6d83c432-2ffe-4625-e615-693461823cf5"
      },
      "execution_count": 95,
      "outputs": [
        {
          "output_type": "stream",
          "name": "stdout",
          "text": [
            "Move disk from origin to aux1\n",
            "Move disk from origin to aux2\n",
            "Move disk from aux1 to aux2\n",
            "Move disk from origin to aux1\n",
            "Move disk from aux2 to origin\n",
            "Move disk from aux2 to aux1\n",
            "Move disk from origin to aux1\n",
            "Move disk from origin to dest\n",
            "Move disk from origin to aux2\n",
            "Move disk from dest to aux2\n",
            "Move disk from origin to dest\n",
            "Move disk from aux2 to origin\n",
            "Move disk from aux2 to dest\n",
            "Move disk from origin to dest\n",
            "Move disk from aux1 to dest\n",
            "Move disk from aux1 to aux2\n",
            "Move disk from dest to aux2\n",
            "Move disk from aux1 to dest\n",
            "Move disk from aux2 to aux1\n",
            "Move disk from aux2 to dest\n",
            "Move disk from aux1 to dest\n"
          ]
        }
      ]
    },
    {
      "cell_type": "markdown",
      "source": [
        "**Minimum number of movements**"
      ],
      "metadata": {
        "id": "LmqW1NYMNT15"
      }
    },
    {
      "cell_type": "markdown",
      "source": [
        "\\begin{align}\n",
        "        \\text{T}(n) = \\left\\{\n",
        "        \\begin{array}{cl}\n",
        "        1 & n=1 \\\\\n",
        "        2T(n//2)+2^{n//2}-1 & n > 1.\n",
        "        \\end{array}\n",
        "        \\right.\n",
        "    \\end{align}"
      ],
      "metadata": {
        "id": "I43ZlJ8DKcL4"
      }
    },
    {
      "cell_type": "markdown",
      "source": [
        "$T(n) \\in \\Omega(2^{n/2})$, \n",
        "$T(n) \\in 0(2^{n/2})$ $⟹$ $T(n) \\in Θ(2^{n/2})$\n",
        "\n"
      ],
      "metadata": {
        "id": "imo0XYgpNRyq"
      }
    },
    {
      "cell_type": "code",
      "source": [
        "def move(s1,s2,n):\n",
        "  \"\"\"\n",
        "  s1:stick 1\n",
        "  s2:stick 2\n",
        "  n:number of disks\n",
        "  --------------------\n",
        "  Prints the move\n",
        "  \"\"\"\n",
        "  print(f'Move disk from {s1} to {s2}')\n",
        "import math\n",
        "def Hanoi4_opt(origin,dest,aux1,aux2,n):\n",
        "  if n==1:\n",
        "    move(origin,dest,n)\n",
        "  else:\n",
        "    k=math.floor(math.sqrt(n))\n",
        "    Hanoi4_opt(origin,aux1,dest,aux2,n-k)\n",
        "    Hanoi(origin,dest,aux2,k)\n",
        "    Hanoi4_opt(aux1,dest,origin,aux2,n-k)\n",
        "\n"
      ],
      "metadata": {
        "id": "H7yixDmqRPPi"
      },
      "execution_count": 100,
      "outputs": []
    },
    {
      "cell_type": "markdown",
      "source": [
        "\\begin{align}\n",
        "        \\text{T}(n) = \\left\\{\n",
        "        \\begin{array}{cl}\n",
        "        1 & n=1 \\\\\n",
        "        2T(n-⌊\\sqrt{n}⌋)+2^{⌊\\sqrt{n}⌋}-1 & n > 1.\n",
        "        \\end{array}\n",
        "        \\right.\n",
        "    \\end{align}"
      ],
      "metadata": {
        "id": "7T5AMF9CSc_S"
      }
    },
    {
      "cell_type": "code",
      "source": [
        "Hanoi4_opt('origin','dest','aux1','aux2',7)"
      ],
      "metadata": {
        "colab": {
          "base_uri": "https://localhost:8080/"
        },
        "id": "1sR-jPNZTClT",
        "outputId": "1bd90948-70a1-4651-d347-07fdcdc30952"
      },
      "execution_count": 101,
      "outputs": [
        {
          "output_type": "stream",
          "name": "stdout",
          "text": [
            "Move disk from origin to dest\n",
            "Move disk from origin to aux1\n",
            "Move disk from dest to aux1\n",
            "Move disk from origin to dest\n",
            "Move disk from aux1 to origin\n",
            "Move disk from aux1 to dest\n",
            "Move disk from origin to dest\n",
            "Move disk from origin to aux2\n",
            "Move disk from origin to aux1\n",
            "Move disk from aux2 to aux1\n",
            "Move disk from dest to aux1\n",
            "Move disk from dest to origin\n",
            "Move disk from aux1 to origin\n",
            "Move disk from dest to aux1\n",
            "Move disk from origin to dest\n",
            "Move disk from origin to aux1\n",
            "Move disk from dest to aux1\n",
            "Move disk from origin to aux2\n",
            "Move disk from origin to dest\n",
            "Move disk from aux2 to dest\n",
            "Move disk from aux1 to origin\n",
            "Move disk from aux1 to dest\n",
            "Move disk from origin to dest\n",
            "Move disk from aux1 to origin\n",
            "Move disk from dest to aux1\n",
            "Move disk from dest to origin\n",
            "Move disk from aux1 to origin\n",
            "Move disk from aux1 to aux2\n",
            "Move disk from aux1 to dest\n",
            "Move disk from aux2 to dest\n",
            "Move disk from origin to dest\n",
            "Move disk from origin to aux1\n",
            "Move disk from dest to aux1\n",
            "Move disk from origin to dest\n",
            "Move disk from aux1 to origin\n",
            "Move disk from aux1 to dest\n",
            "Move disk from origin to dest\n"
          ]
        }
      ]
    },
    {
      "cell_type": "code",
      "source": [],
      "metadata": {
        "id": "7wEwdfmmTIKN"
      },
      "execution_count": null,
      "outputs": []
    }
  ]
}