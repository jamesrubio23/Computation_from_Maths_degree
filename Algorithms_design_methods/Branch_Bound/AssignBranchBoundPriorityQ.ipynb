{
  "nbformat": 4,
  "nbformat_minor": 0,
  "metadata": {
    "colab": {
      "provenance": []
    },
    "kernelspec": {
      "name": "python3",
      "display_name": "Python 3"
    },
    "language_info": {
      "name": "python"
    }
  },
  "cells": [
    {
      "cell_type": "code",
      "source": [
        "from queue import PriorityQueue\n",
        "\n",
        "def branch_and_bound(time_matrix):\n",
        "    \"\"\"\n",
        "    time_matrix: Matrix where row i and column j represents the time the worker i needs to do task j.\n",
        "    \"\"\"\n",
        "    #Generate the root where each node has the total cost, the level and a list with the assigned tasks\n",
        "    root = (0, 0, [])\n",
        "    queue = PriorityQueue()\n",
        "    queue.put((-root[0], root))\n",
        "\n",
        "    \n",
        "    best_cost = float('inf')\n",
        "    best_assignment = []\n",
        "\n",
        "    # loop until the queue is empty. Since we cut branches, this solution is better than using backtracking algorithm which will exponentially aument the time computation.\n",
        "    while not queue.empty():\n",
        "        # Since its a priority queue the most promissing node is at the top of the search tree which is the priority queue\n",
        "        node = queue.get()[1]\n",
        "        cost, level, assignment = node\n",
        "\n",
        "        #We check if the node is a leaf or if the branch is not promising\n",
        "        if level == len(time_matrix):\n",
        "            if cost < best_cost:\n",
        "                best_cost = cost\n",
        "                best_assignment = assignment\n",
        "        elif bound(cost, time_matrix, level) < best_cost:\n",
        "            # create child nodes by assigning each worker to a task\n",
        "            for i in range(len(time_matrix)):\n",
        "                if i not in assignment:\n",
        "                    child_cost = cost + time_matrix[level][i]\n",
        "                    child_assignment = assignment + [i]\n",
        "                    child = (child_cost, level + 1, child_assignment)\n",
        "                    queue.put((-child_cost, child))\n",
        "    \n",
        "    return best_cost, best_assignment\n",
        "\n",
        "def bound(cost, time_matrix, level):\n",
        "    # calculate the lower bound of the subtree rooted at the current node\n",
        "    lb = cost\n",
        "    for i in range(level, len(time_matrix)):\n",
        "        min_cost = min(time_matrix[i][j] for j in range(len(time_matrix)) if j not in range(level))\n",
        "        lb += min_cost\n",
        "    return lb\n",
        "\n",
        "#time_matrix = [[10, 20, 50, 6], [8, 4, 7, 3], [6, 1, 5, 9], [7, 2, 8, 4]]\n",
        "import random\n",
        "random.seed(123)\n",
        "def generate_matrix(n):\n",
        "  return [[random.randint(1,9) for i in range(n)] for j in range(n)]\n",
        "time_matrix=generate_matrix(8)\n",
        "print(time_matrix)\n",
        "print(branch_and_bound(time_matrix))"
      ],
      "metadata": {
        "colab": {
          "base_uri": "https://localhost:8080/"
        },
        "id": "3EaB6tNXRLey",
        "outputId": "76923282-953f-4115-da1e-b13b414eb37e"
      },
      "execution_count": 7,
      "outputs": [
        {
          "output_type": "stream",
          "name": "stdout",
          "text": [
            "[[1, 5, 2, 7, 5, 2, 1, 7], [9, 9, 6, 6, 1, 3, 3, 6], [9, 6, 4, 3, 1, 7, 2, 7], [2, 1, 6, 8, 2, 1, 2, 3], [3, 1, 5, 7, 8, 5, 8, 1], [5, 6, 9, 8, 4, 9, 6, 1], [7, 9, 7, 9, 8, 9, 7, 6], [9, 1, 3, 2, 8, 5, 3, 6]]\n",
            "(17, [2, 4, 6, 5, 1, 7, 0, 3])\n"
          ]
        }
      ]
    },
    {
      "cell_type": "code",
      "source": [],
      "metadata": {
        "id": "TYHDzDU3SFOz"
      },
      "execution_count": null,
      "outputs": []
    }
  ]
}