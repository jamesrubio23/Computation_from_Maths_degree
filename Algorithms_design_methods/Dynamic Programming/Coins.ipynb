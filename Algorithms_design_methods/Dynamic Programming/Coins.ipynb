{
  "nbformat": 4,
  "nbformat_minor": 0,
  "metadata": {
    "colab": {
      "provenance": []
    },
    "kernelspec": {
      "name": "python3",
      "display_name": "Python 3"
    },
    "language_info": {
      "name": "python"
    }
  },
  "cells": [
    {
      "cell_type": "markdown",
      "source": [
        "**We are a cashier and we want to optimize the number of coins given when we give the change to the costumer.**"
      ],
      "metadata": {
        "id": "QLzLR98GQXFc"
      }
    },
    {
      "cell_type": "code",
      "source": [
        "#With this type of algorithm we store the results so that we only have to calculate them once.\n",
        "\n",
        "#coins(n,C) is the minimum number of coins to pay C with the types of coins given in n.\n",
        "#If we build this from the bottom our program will find a solution for every quantity below C."
      ],
      "metadata": {
        "id": "XlVUJ1fjULk6"
      },
      "execution_count": null,
      "outputs": []
    },
    {
      "cell_type": "markdown",
      "source": [
        "\\begin{align}\n",
        "        \\text{coins}(i,j) = \\left\\{\n",
        "        \\begin{array}{cl}\n",
        "        coins(i-1,j) & n_{i} > j \\\\\n",
        "        min(coins(i-1,j),coins(i,j-n_i) & n_i \\le j.\n",
        "        \\end{array}\n",
        "        \\right.\n",
        "  \\end{align}"
      ],
      "metadata": {
        "id": "EF2p3HRdO84U"
      }
    },
    {
      "cell_type": "code",
      "execution_count": 13,
      "metadata": {
        "colab": {
          "base_uri": "https://localhost:8080/"
        },
        "id": "MtIiLBtKN4uW",
        "outputId": "a5297988-dc44-4f2a-c48a-8dd66928dd3d"
      },
      "outputs": [
        {
          "output_type": "stream",
          "name": "stdout",
          "text": [
            "Minimum number of coins to reach 311 is 5\n",
            "\n",
            "We take 1 coin/s of 1 cent\n",
            "We take 1 coin/s of 2 cent\n",
            "We take 0 coin/s of 4 cent\n",
            "We take 1 coin/s of 8 cent\n",
            "We take 0 coin/s of 50 cent\n",
            "We take 2 coin/s of 150 cent\n",
            "We take 0 coin/s of 200 cent\n"
          ]
        }
      ],
      "source": [
        "import math\n",
        "def change(n,C):\n",
        "  \"\"\"\n",
        "  O(nC) in time computation\n",
        "  O(C) in additional space computation\n",
        "  -------------------------------------\n",
        "  n: list with the different types of coins\n",
        "  C: Quantity we need to return in coins\n",
        "  -------------------------------------\n",
        "              -\n",
        "  Since we only fill the vector 'coins' at the step i and we only need to check \n",
        "  the vector at step i-1, vectors down from i-1 are not required. That's why \n",
        "  we only use a list\n",
        "\n",
        "  \"\"\"\n",
        "\n",
        "  coins=[]\n",
        "  coins.append(0)\n",
        "  for k in range(1,C+1):\n",
        "    coins.append(math.inf)\n",
        "  for i in range(len(n)):\n",
        "    for j in range(n[i],C+1):\n",
        "        coins[j]=(min(coins[j],coins[j-n[i]]+1))\n",
        "  print(f\"Minimum number of coins to reach {C} is {coins[C]}\")\n",
        "  return coins\n",
        "\n",
        "def calculate_coins(n,coins):\n",
        "  \"\"\"\n",
        "  O(C) in time computation\n",
        "  O(1) in additional space computation\n",
        "  -------------------------------------\n",
        "  n:list with the different types of coins\n",
        "  coins: minimum number of coins needed to complete a quantity equal to its index.\n",
        "  Coins will be calculated on the function above.\n",
        "  -------------------------------------\n",
        "  \"\"\"\n",
        "  j=len(coins)-1\n",
        "  i=len(n)-1\n",
        "  how_many=[]\n",
        "  for k in range(0,i+1):\n",
        "    how_many.append(0)\n",
        "  while j>0 and i>=0:\n",
        "    if n[i]<=j and coins[j]==coins[j-n[i]]+1: #That means it has taken a coin of value n[i]\n",
        "      how_many[i]+=1\n",
        "      j=j-n[i]\n",
        "    else: #Hasn't taken anymore coins of value n[i]\n",
        "      i-=1\n",
        "  print('')\n",
        "  for l in range(len(how_many)):\n",
        "    print(f\"We take {how_many[l]} coin/s of {n[l]} cent\")\n",
        "\n",
        "coins = change([1,2,4,8,50,150,200],311) #types of coins (1 cent, 2 cent, 4 cent, 8 cent, 50 cent, 150 cent, 200 cent)\n",
        "calculate_coins([1,2,4,8,50,150,200],coins)"
      ]
    },
    {
      "cell_type": "code",
      "source": [],
      "metadata": {
        "id": "KahQyAXtN6sV"
      },
      "execution_count": null,
      "outputs": []
    }
  ]
}